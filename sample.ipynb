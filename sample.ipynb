{
 "cells": [
  {
   "metadata": {},
   "cell_type": "markdown",
   "source": [
    "# Importing Modules\n",
    "Importing all modules necessary to run this program"
   ],
   "id": "8a77807f92f26ee"
  },
  {
   "metadata": {
    "ExecuteTime": {
     "end_time": "2025-03-05T07:03:47.634933Z",
     "start_time": "2025-03-05T07:03:47.626839Z"
    }
   },
   "cell_type": "code",
   "source": [
    "import mysql.connector as mycon\n",
    "from tabulate import tabulate\n",
    "from qrcodereader import scan_qr_from_webcam\n",
    "import qrcode"
   ],
   "id": "202cae2f97b33508",
   "outputs": [],
   "execution_count": 13
  },
  {
   "metadata": {},
   "cell_type": "markdown",
   "source": [
    "# Calling MySQL\n",
    "Currently working on localhost -> Will be updated to AWS Host"
   ],
   "id": "aa1c611b21898bc6"
  },
  {
   "metadata": {
    "ExecuteTime": {
     "end_time": "2025-03-05T07:03:48.821281Z",
     "start_time": "2025-03-05T07:03:47.654564Z"
    }
   },
   "cell_type": "code",
   "source": [
    "print(\"Connecting to AWS Server...\")\n",
    "cob = mycon.connect(user=\"admin\", \n",
    "                    password=\"<PASSWORD>\", \n",
    "                    host=\"crud-app.c9ayiokeiq4o.ap-south-1.rds.amazonaws.com\", \n",
    "                    database=\"crud\"\n",
    ")\n",
    "print(\"Connection Successful!\")"
   ],
   "id": "fbc121e30a2defb3",
   "outputs": [
    {
     "name": "stdout",
     "output_type": "stream",
     "text": [
      "Connecting to AWS Server...\n",
      "Connection Successful!\n"
     ]
    }
   ],
   "execution_count": 14
  },
  {
   "metadata": {},
   "cell_type": "markdown",
   "source": [
    "# Creating Read Function\n",
    "This function will display all the books available in the library"
   ],
   "id": "2c2b0ca88cb747d8"
  },
  {
   "metadata": {
    "ExecuteTime": {
     "end_time": "2025-03-05T07:05:38.977441Z",
     "start_time": "2025-03-05T07:05:38.918718Z"
    }
   },
   "cell_type": "code",
   "source": [
    "def read(filter):\n",
    "    tab = cob.cursor()\n",
    "    match filter:\n",
    "        case 1:\n",
    "            tab.execute(\"SELECT * FROM books\")\n",
    "        case 2:\n",
    "            tab.execute(\"SELECT * FROM books WHERE status = 'A'\")\n",
    "        case 3:\n",
    "            tab.execute(\"SELECT * FROM books WHERE status = 'B'\")\n",
    "    \n",
    "    bookLis = []\n",
    "    for i in tab:\n",
    "        bookLis.append(i)\n",
    "    print(tabulate(bookLis, headers=[\"Book ID\", \"Name of Book\", \"Shelf\", \"Status\"]))\n",
    "read(1)"
   ],
   "id": "e49a75c30a9e7cbc",
   "outputs": [
    {
     "name": "stdout",
     "output_type": "stream",
     "text": [
      "  Book ID  Name of Book           Shelf    Status\n",
      "---------  ---------------------  -------  --------\n",
      "     1001  The Jungle Book        1A       A\n",
      "     1003  To Kill a Mockingbird  4A       B\n"
     ]
    }
   ],
   "execution_count": 22
  },
  {
   "metadata": {},
   "cell_type": "markdown",
   "source": [
    "# Creating Specific Read Function\n",
    "This function will display specific books available in the library\n",
    "\n",
    "\n",
    "**Values Taken From User:**\n",
    "1. Book ID"
   ],
   "id": "67d5ca8c820f24b0"
  },
  {
   "metadata": {
    "ExecuteTime": {
     "end_time": "2025-03-05T07:04:36.820086Z",
     "start_time": "2025-03-05T07:04:36.756470Z"
    }
   },
   "cell_type": "code",
   "source": [
    "def specificRead(bookID):\n",
    "    tab = cob.cursor()\n",
    "    tab.execute(f'SELECT * FROM books WHERE bookID = {bookID}')\n",
    "    for i in tab:\n",
    "        if i[3] == \"A\":\n",
    "            print(f\"Book Name: {i[1]}\\nShelf: {i[2]}\\nStatus: Available\")\n",
    "        elif i[3] == \"B\":\n",
    "            print(f\"Book Name: {i[1]}\\nShelf: {i[2]}\\nStatus: Unavailable\")\n",
    "specificRead(1001)"
   ],
   "id": "1fb1df5fc2f357e9",
   "outputs": [
    {
     "name": "stdout",
     "output_type": "stream",
     "text": [
      "Book Name: The Jungle Book\n",
      "Shelf: 1A\n",
      "Status: Available\n"
     ]
    }
   ],
   "execution_count": 18
  },
  {
   "metadata": {},
   "cell_type": "markdown",
   "source": [
    "# Creating a Create Function\n",
    "This function will insert books in the library using QR Code"
   ],
   "id": "383bdad78804fb08"
  },
  {
   "metadata": {
    "ExecuteTime": {
     "end_time": "2025-03-05T07:05:33.102754Z",
     "start_time": "2025-03-05T07:05:28.005060Z"
    }
   },
   "cell_type": "code",
   "source": [
    "def insertBook():\n",
    "    qrval = scan_qr_from_webcam()\n",
    "    try:\n",
    "        qrval = qrval.split(\",\")\n",
    "        bookId = qrval[0].strip()\n",
    "        bookName = qrval[1].strip()\n",
    "        shelf = qrval[2].strip()\n",
    "        status = qrval[3].strip()\n",
    "    \n",
    "    except:\n",
    "        print(\"Could Not Scan QR Code Properly, Try Insering Manually...\")\n",
    "        bookId = int(input(\"Enter Book ID: \"))\n",
    "        bookName = input(\"Enter Book Name: \")\n",
    "        shelf = input(\"Enter Shelf: \")\n",
    "        status = input(\"Enter Status: \")\n",
    "    \n",
    "    finally:\n",
    "        tab = cob.cursor()\n",
    "        tab.execute(f'INSERT INTO books VALUES ({bookId}, \"{bookName}\", \"{shelf}\", \"{status}\")')\n",
    "        cob.commit()\n",
    "        print(\"Successfully Added to Library\")\n",
    "insertBook()"
   ],
   "id": "9f686a0dbc7ffa3b",
   "outputs": [
    {
     "name": "stdout",
     "output_type": "stream",
     "text": [
      "Successfully Added to Library\n"
     ]
    }
   ],
   "execution_count": 21
  },
  {
   "metadata": {},
   "cell_type": "markdown",
   "source": [
    "# Create QR Code\n",
    "This function will create QR codes for books which can be printed and stuck onto books for identification in the future."
   ],
   "id": "4f64a4a7e25a57a7"
  },
  {
   "metadata": {},
   "cell_type": "code",
   "source": [
    "qrlist = []\n",
    "def takeQRVals():\n",
    "    n = int(input(\"Enter Number of QRs: \"))\n",
    "    for i in range (n):\n",
    "        bookID = int(input(\"Enter Book ID: \"))\n",
    "        bookName = input(\"Enter Book Name: \")\n",
    "        shelf = input(\"Enter Shelf: \")\n",
    "        status = input(\"Enter Status: \")\n",
    "        qrlist.append([bookID, bookName, shelf, status])\n",
    "\n",
    "def createQR():\n",
    "    takeQRVals()\n",
    "    for i in range (len(qrlist)):\n",
    "        data = f\"{qrlist[i][0]},{qrlist[i][1]},{qrlist[i][2]},{qrlist[i][3]}\"\n",
    "        qr = qrcode.QRCode(\n",
    "            version=1,\n",
    "            error_correction=qrcode.constants.ERROR_CORRECT_L,\n",
    "            box_size=10,\n",
    "            border=4,\n",
    "        )\n",
    "        qr.add_data(data)  # Add data to QR code\n",
    "        qr.make(fit=True)\n",
    "        \n",
    "        # Create an image of the QR Code\n",
    "        qr_img = qr.make_image(fill=\"black\", back_color=\"white\")\n",
    "        \n",
    "        # Save the QR code as an image file\n",
    "        qr_img.save(f\"qrcode{i}.png\")\n",
    "        \n",
    "        # Show the QR Code\n",
    "        qr_img.show()     \n",
    "\n",
    "createQR()"
   ],
   "id": "38dbc9893006f0f4",
   "outputs": [],
   "execution_count": null
  },
  {
   "metadata": {},
   "cell_type": "markdown",
   "source": [
    "# Create Update Table Function\n",
    "This function will update a cell from the table"
   ],
   "id": "f163a2410c0c294c"
  },
  {
   "metadata": {},
   "cell_type": "code",
   "source": [
    "def update():\n",
    "    bookID = int(input(\"Enter Book ID: \"))\n",
    "    choice = int(input(\"What Would You Like To Update?\\n1. bookID\\n2. bookName\\n3. shelf\\n4. status\\nEnter your choice: \"))\n",
    "    match choice:\n",
    "        case 1:\n",
    "            column = \"bookID\"\n",
    "            newval = int(input(\"Enter New Value: \"))\n",
    "            tab = cob.cursor()\n",
    "            tab.execute(f'UPDATE books SET {column} = {newval} WHERE bookID = {bookID}')\n",
    "        case 2:\n",
    "            column = \"bookName\"\n",
    "            newval = input(\"Enter New Value: \")\n",
    "            tab = cob.cursor()\n",
    "            tab.execute(f'UPDATE books SET {column} = \"{newval}\" WHERE bookID = {bookID}')\n",
    "        case 3:\n",
    "            column = \"shelf\"\n",
    "            newval = input(\"Enter New Value: \")\n",
    "            tab = cob.cursor()\n",
    "            tab.execute(f'UPDATE books SET {column} = \"{newval}\" WHERE bookID = {bookID}')\n",
    "        case 4:\n",
    "            column = \"status\"\n",
    "            newval = input(\"Enter New Value: \")\n",
    "            tab = cob.cursor()\n",
    "            tab.execute(f'UPDATE books SET {column} = \"{newval}\" WHERE bookID = {bookID}')\n",
    "    cob.commit()\n",
    "    print(\"Successfully Updated\")\n",
    "        \n",
    "update()"
   ],
   "id": "d0593e677366e401",
   "outputs": [],
   "execution_count": null
  },
  {
   "metadata": {},
   "cell_type": "markdown",
   "source": [
    "# Create Delete Row Function\n",
    "This function will delete a row from the table\n"
   ],
   "id": "ecc007d229452a34"
  },
  {
   "metadata": {},
   "cell_type": "code",
   "source": [
    "def delete(bookID):\n",
    "    tab = cob.cursor()\n",
    "    tab.execute('select bookid from books')\n",
    "    bookids = []\n",
    "    for i in tab:\n",
    "        bookids.append(i[0])\n",
    "    \n",
    "    if bookID in bookids:\n",
    "        tab.execute(f\"DELETE FROM books WHERE bookID = {bookID}\")\n",
    "        cob.commit()\n",
    "        print(\"Successfully Deleted\")\n",
    "    else:\n",
    "        print(\"Invalid BookID\")\n",
    "delete(1002)\n",
    "        "
   ],
   "id": "bc2b20738d55257f",
   "outputs": [],
   "execution_count": null
  }
 ],
 "metadata": {
  "kernelspec": {
   "display_name": "Python 3",
   "language": "python",
   "name": "python3"
  },
  "language_info": {
   "codemirror_mode": {
    "name": "ipython",
    "version": 2
   },
   "file_extension": ".py",
   "mimetype": "text/x-python",
   "name": "python",
   "nbconvert_exporter": "python",
   "pygments_lexer": "ipython2",
   "version": "2.7.6"
  }
 },
 "nbformat": 4,
 "nbformat_minor": 5
}
