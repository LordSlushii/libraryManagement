{
 "cells": [
  {
   "metadata": {},
   "cell_type": "markdown",
   "source": "# Importing Modules",
   "id": "8a77807f92f26ee"
  },
  {
   "metadata": {},
   "cell_type": "code",
   "source": [
    "import numpy as np\n",
    "import matplotlib.pyplot as plt\n",
    "import mysql.connector as mycon\n",
    "from tabulate import tabulate\n",
    "import opencv"
   ],
   "id": "202cae2f97b33508",
   "outputs": [],
   "execution_count": null
  },
  {
   "metadata": {},
   "cell_type": "markdown",
   "source": "# Calling MySQL",
   "id": "aa1c611b21898bc6"
  },
  {
   "metadata": {},
   "cell_type": "code",
   "source": [
    "cob = mycon.connect(\n",
    "    host='localhost', \n",
    "    user='root',\n",
    "    password='<password>',\n",
    "    database = 'library',\n",
    "    auth_plugin='mysql_native_password'\n",
    ")"
   ],
   "id": "fbc121e30a2defb3",
   "outputs": [],
   "execution_count": null
  },
  {
   "metadata": {},
   "cell_type": "markdown",
   "source": [
    "# Creating Read Function\n",
    "This function will display all the books available in the library"
   ],
   "id": "2c2b0ca88cb747d8"
  },
  {
   "metadata": {},
   "cell_type": "code",
   "source": [
    "def read():\n",
    "    tab = cob.cursor()\n",
    "    tab.execute(\"select * from books\")\n",
    "    bookLis = []\n",
    "    for i in tab:\n",
    "        bookLis.append(i)\n",
    "    print(tabulate(bookLis, headers=[\"Book ID\", \"Name of Book\", \"Shelf\", \"Status\"]))\n",
    "read()"
   ],
   "id": "e49a75c30a9e7cbc",
   "outputs": [],
   "execution_count": null
  },
  {
   "metadata": {},
   "cell_type": "markdown",
   "source": [
    "# Creating Specific Read Function\n",
    "This function will display specific books available in the library\n",
    "\n",
    "# Values Taken From User:\n",
    "1. Book ID"
   ],
   "id": "67d5ca8c820f24b0"
  },
  {
   "metadata": {},
   "cell_type": "code",
   "source": [
    "def specificRead(bookID):\n",
    "    tab = cob.cursor()\n",
    "    tab.execute(f'select * from books where bookID = {bookID}')\n",
    "    for i in tab:\n",
    "        if i[3] == \"A\":\n",
    "            print(f\"Book Name: {i[1]}\\nShelf: {i[2]}\\nStatus: Available\")\n",
    "specificRead(1001)"
   ],
   "id": "1fb1df5fc2f357e9",
   "outputs": [],
   "execution_count": null
  },
  {
   "metadata": {},
   "cell_type": "markdown",
   "source": [
    "# Creating a Create Function\n",
    "This function will insert books in the library using QR Code"
   ],
   "id": "383bdad78804fb08"
  },
  {
   "metadata": {},
   "cell_type": "code",
   "outputs": [],
   "execution_count": null,
   "source": "",
   "id": "9f686a0dbc7ffa3b"
  }
 ],
 "metadata": {
  "kernelspec": {
   "display_name": "Python 3",
   "language": "python",
   "name": "python3"
  },
  "language_info": {
   "codemirror_mode": {
    "name": "ipython",
    "version": 2
   },
   "file_extension": ".py",
   "mimetype": "text/x-python",
   "name": "python",
   "nbconvert_exporter": "python",
   "pygments_lexer": "ipython2",
   "version": "2.7.6"
  }
 },
 "nbformat": 4,
 "nbformat_minor": 5
}
