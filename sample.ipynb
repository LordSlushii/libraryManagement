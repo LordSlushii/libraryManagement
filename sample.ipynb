{
 "cells": [
  {
   "metadata": {},
   "cell_type": "markdown",
   "source": [
    "# Importing Modules\n",
    "Importing all modules necessary to run this program"
   ],
   "id": "8a77807f92f26ee"
  },
  {
   "metadata": {
    "ExecuteTime": {
     "end_time": "2025-03-05T07:22:38.165238Z",
     "start_time": "2025-03-05T07:22:37.873647Z"
    }
   },
   "cell_type": "code",
   "source": [
    "import mysql.connector as mycon\n",
    "from tabulate import tabulate\n",
    "from qrcodereader import scan_qr_from_webcam\n",
    "import qrcode"
   ],
   "id": "202cae2f97b33508",
   "outputs": [],
   "execution_count": 6
  },
  {
   "metadata": {},
   "cell_type": "markdown",
   "source": [
    "# Calling MySQL\n",
    "Currently working on localhost -> Will be updated to AWS Host"
   ],
   "id": "aa1c611b21898bc6"
  },
  {
   "metadata": {
    "ExecuteTime": {
     "end_time": "2025-03-05T07:22:49.843085Z",
     "start_time": "2025-03-05T07:22:49.437513Z"
    }
   },
   "cell_type": "code",
   "source": [
    "print(\"Connecting to AWS Server...\")\n",
    "cob = mycon.connect(user=\"admin\", \n",
    "                    password=\"<password>\", \n",
    "                    host=\"crud-app.c9ayiokeiq4o.ap-south-1.rds.amazonaws.com\", \n",
    "                    database=\"crud\"\n",
    ")\n",
    "print(\"Connection Successful!\")"
   ],
   "id": "fbc121e30a2defb3",
   "outputs": [
    {
     "name": "stdout",
     "output_type": "stream",
     "text": [
      "Connecting to AWS Server...\n",
      "Connection Successful!\n"
     ]
    }
   ],
   "execution_count": 8
  },
  {
   "metadata": {},
   "cell_type": "markdown",
   "source": [
    "# Creating Read Function\n",
    "This function will display all the books available in the library"
   ],
   "id": "2c2b0ca88cb747d8"
  },
  {
   "metadata": {
    "ExecuteTime": {
     "end_time": "2025-03-05T07:23:02.701939Z",
     "start_time": "2025-03-05T07:23:02.698087Z"
    }
   },
   "cell_type": "code",
   "source": [
    "def read(filter):\n",
    "    tab = cob.cursor()\n",
    "    match filter:\n",
    "        case 1:\n",
    "            tab.execute(\"SELECT * FROM books\")\n",
    "        case 2:\n",
    "            tab.execute(\"SELECT * FROM books WHERE status = 'A'\")\n",
    "        case 3:\n",
    "            tab.execute(\"SELECT * FROM books WHERE status = 'B'\")\n",
    "    \n",
    "    bookLis = []\n",
    "    for i in tab:\n",
    "        bookLis.append(i)\n",
    "    print(tabulate(bookLis, headers=[\"Book ID\", \"Name of Book\", \"Shelf\", \"Status\"]))\n"
   ],
   "id": "e49a75c30a9e7cbc",
   "outputs": [],
   "execution_count": 11
  },
  {
   "metadata": {},
   "cell_type": "markdown",
   "source": [
    "# Creating Specific Read Function\n",
    "This function will display specific books available in the library\n",
    "\n",
    "\n",
    "**Values Taken From User:**\n",
    "1. Book ID"
   ],
   "id": "67d5ca8c820f24b0"
  },
  {
   "metadata": {
    "ExecuteTime": {
     "end_time": "2025-03-05T07:23:06.480010Z",
     "start_time": "2025-03-05T07:23:06.476241Z"
    }
   },
   "cell_type": "code",
   "source": [
    "def specificRead(bookID):\n",
    "    tab = cob.cursor()\n",
    "    tab.execute(f'SELECT * FROM books WHERE bookID = {bookID}')\n",
    "    for i in tab:\n",
    "        if i[3] == \"A\":\n",
    "            print(f\"Book Name: {i[1]}\\nShelf: {i[2]}\\nStatus: Available\")\n",
    "        elif i[3] == \"B\":\n",
    "            print(f\"Book Name: {i[1]}\\nShelf: {i[2]}\\nStatus: Unavailable\")\n"
   ],
   "id": "1fb1df5fc2f357e9",
   "outputs": [],
   "execution_count": 12
  },
  {
   "metadata": {},
   "cell_type": "markdown",
   "source": [
    "# Creating a Create Function\n",
    "This function will insert books in the library using QR Code"
   ],
   "id": "383bdad78804fb08"
  },
  {
   "metadata": {
    "ExecuteTime": {
     "end_time": "2025-03-05T07:23:11.103704Z",
     "start_time": "2025-03-05T07:23:11.094791Z"
    }
   },
   "cell_type": "code",
   "source": [
    "def insertBook():\n",
    "    qrval = scan_qr_from_webcam()\n",
    "    try:\n",
    "        qrval = qrval.split(\",\")\n",
    "        bookId = qrval[0].strip()\n",
    "        bookName = qrval[1].strip()\n",
    "        shelf = qrval[2].strip()\n",
    "        status = qrval[3].strip()\n",
    "    \n",
    "    except:\n",
    "        print(\"Could Not Scan QR Code Properly, Try Insering Manually...\")\n",
    "        bookId = int(input(\"Enter Book ID: \"))\n",
    "        bookName = input(\"Enter Book Name: \")\n",
    "        shelf = input(\"Enter Shelf: \")\n",
    "        status = input(\"Enter Status: \")\n",
    "    \n",
    "    finally:\n",
    "        tab = cob.cursor()\n",
    "        tab.execute(f'INSERT INTO books VALUES ({bookId}, \"{bookName}\", \"{shelf}\", \"{status}\")')\n",
    "        cob.commit()\n",
    "        print(\"Successfully Added to Library\")\n"
   ],
   "id": "9f686a0dbc7ffa3b",
   "outputs": [],
   "execution_count": 13
  },
  {
   "metadata": {},
   "cell_type": "markdown",
   "source": [
    "# Create QR Code\n",
    "This function will create QR codes for books which can be printed and stuck onto books for identification in the future."
   ],
   "id": "4f64a4a7e25a57a7"
  },
  {
   "metadata": {
    "ExecuteTime": {
     "end_time": "2025-03-05T07:23:16.524834Z",
     "start_time": "2025-03-05T07:23:16.520454Z"
    }
   },
   "cell_type": "code",
   "source": [
    "qrlist = []\n",
    "def takeQRVals():\n",
    "    n = int(input(\"Enter Number of QRs: \"))\n",
    "    for i in range (n):\n",
    "        bookID = int(input(\"Enter Book ID: \"))\n",
    "        bookName = input(\"Enter Book Name: \")\n",
    "        shelf = input(\"Enter Shelf: \")\n",
    "        status = input(\"Enter Status: \")\n",
    "        qrlist.append([bookID, bookName, shelf, status])\n",
    "\n",
    "def createQR():\n",
    "    takeQRVals()\n",
    "    for i in range (len(qrlist)):\n",
    "        data = f\"{qrlist[i][0]},{qrlist[i][1]},{qrlist[i][2]},{qrlist[i][3]}\"\n",
    "        qr = qrcode.QRCode(\n",
    "            version=1,\n",
    "            error_correction=qrcode.constants.ERROR_CORRECT_L,\n",
    "            box_size=10,\n",
    "            border=4,\n",
    "        )\n",
    "        qr.add_data(data)  # Add data to QR code\n",
    "        qr.make(fit=True)\n",
    "        \n",
    "        # Create an image of the QR Code\n",
    "        qr_img = qr.make_image(fill=\"black\", back_color=\"white\")\n",
    "        \n",
    "        # Save the QR code as an image file\n",
    "        qr_img.save(f\"qrcode{i}.png\")\n",
    "        \n",
    "        # Show the QR Code\n",
    "        qr_img.show()     \n",
    "\n"
   ],
   "id": "38dbc9893006f0f4",
   "outputs": [],
   "execution_count": 14
  },
  {
   "metadata": {},
   "cell_type": "markdown",
   "source": [
    "# Create Update Table Function\n",
    "This function will update a cell from the table"
   ],
   "id": "f163a2410c0c294c"
  },
  {
   "metadata": {
    "ExecuteTime": {
     "end_time": "2025-03-05T07:23:26.685075Z",
     "start_time": "2025-03-05T07:23:26.680065Z"
    }
   },
   "cell_type": "code",
   "source": [
    "def update():\n",
    "    bookID = int(input(\"Enter Book ID: \"))\n",
    "    choice = int(input(\"What Would You Like To Update?\\n1. bookID\\n2. bookName\\n3. shelf\\n4. status\\nEnter your choice: \"))\n",
    "    match choice:\n",
    "        case 1:\n",
    "            column = \"bookID\"\n",
    "            newval = int(input(\"Enter New Value: \"))\n",
    "            tab = cob.cursor()\n",
    "            tab.execute(f'UPDATE books SET {column} = {newval} WHERE bookID = {bookID}')\n",
    "        case 2:\n",
    "            column = \"bookName\"\n",
    "            newval = input(\"Enter New Value: \")\n",
    "            tab = cob.cursor()\n",
    "            tab.execute(f'UPDATE books SET {column} = \"{newval}\" WHERE bookID = {bookID}')\n",
    "        case 3:\n",
    "            column = \"shelf\"\n",
    "            newval = input(\"Enter New Value: \")\n",
    "            tab = cob.cursor()\n",
    "            tab.execute(f'UPDATE books SET {column} = \"{newval}\" WHERE bookID = {bookID}')\n",
    "        case 4:\n",
    "            column = \"status\"\n",
    "            newval = input(\"Enter New Value: \")\n",
    "            tab = cob.cursor()\n",
    "            tab.execute(f'UPDATE books SET {column} = \"{newval}\" WHERE bookID = {bookID}')\n",
    "    cob.commit()\n",
    "    print(\"Successfully Updated\")\n",
    "        \n"
   ],
   "id": "d0593e677366e401",
   "outputs": [],
   "execution_count": 16
  },
  {
   "metadata": {},
   "cell_type": "markdown",
   "source": [
    "# Create Delete Row Function\n",
    "This function will delete a row from the table\n"
   ],
   "id": "ecc007d229452a34"
  },
  {
   "metadata": {
    "ExecuteTime": {
     "end_time": "2025-03-05T07:23:34.183501Z",
     "start_time": "2025-03-05T07:23:34.179723Z"
    }
   },
   "cell_type": "code",
   "source": [
    "def delete(bookID):\n",
    "    tab = cob.cursor()\n",
    "    tab.execute('select bookid from books')\n",
    "    bookids = []\n",
    "    for i in tab:\n",
    "        bookids.append(i[0])\n",
    "    \n",
    "    if bookID in bookids:\n",
    "        tab.execute(f\"DELETE FROM books WHERE bookID = {bookID}\")\n",
    "        cob.commit()\n",
    "        print(\"Successfully Deleted\")\n",
    "    else:\n",
    "        print(\"Invalid BookID\")\n",
    "\n",
    "        "
   ],
   "id": "bc2b20738d55257f",
   "outputs": [],
   "execution_count": 18
  },
  {
   "metadata": {},
   "cell_type": "markdown",
   "source": [
    "# Menu System\n",
    "Creating a menu based system"
   ],
   "id": "184b54cc61e2398f"
  },
  {
   "metadata": {
    "ExecuteTime": {
     "end_time": "2025-03-05T07:24:00.792558Z",
     "start_time": "2025-03-05T07:23:37.712561Z"
    }
   },
   "cell_type": "code",
   "outputs": [
    {
     "name": "stdout",
     "output_type": "stream",
     "text": [
      "  Book ID  Name of Book           Shelf    Status\n",
      "---------  ---------------------  -------  --------\n",
      "     1001  The Jungle Book        1A       A\n",
      "     1003  To Kill a Mockingbird  4A       B\n",
      "Book Name: The Jungle Book\n",
      "Shelf: 1A\n",
      "Status: Available\n"
     ]
    },
    {
     "ename": "KeyboardInterrupt",
     "evalue": "Interrupted by user",
     "output_type": "error",
     "traceback": [
      "\u001B[0;31m---------------------------------------------------------------------------\u001B[0m",
      "\u001B[0;31mKeyboardInterrupt\u001B[0m                         Traceback (most recent call last)",
      "Cell \u001B[0;32mIn[19], line 2\u001B[0m\n\u001B[1;32m      1\u001B[0m \u001B[38;5;28;01mwhile\u001B[39;00m \u001B[38;5;28;01mTrue\u001B[39;00m:\n\u001B[0;32m----> 2\u001B[0m     choice \u001B[38;5;241m=\u001B[39m \u001B[38;5;28mint\u001B[39m(\u001B[38;5;28minput\u001B[39m(\u001B[38;5;124m\"\u001B[39m\u001B[38;5;124mWhat would you like to perform?\u001B[39m\u001B[38;5;130;01m\\n\u001B[39;00m\u001B[38;5;124m1. Read\u001B[39m\u001B[38;5;130;01m\\n\u001B[39;00m\u001B[38;5;124m2. Insert Using QR\u001B[39m\u001B[38;5;130;01m\\n\u001B[39;00m\u001B[38;5;124m3. Create QR\u001B[39m\u001B[38;5;130;01m\\n\u001B[39;00m\u001B[38;5;124m4.Update\u001B[39m\u001B[38;5;130;01m\\n\u001B[39;00m\u001B[38;5;124m5.Delete\u001B[39m\u001B[38;5;130;01m\\n\u001B[39;00m\u001B[38;5;124m\"\u001B[39m))\n\u001B[1;32m      3\u001B[0m     \u001B[38;5;28;01mmatch\u001B[39;00m choice:\n\u001B[1;32m      4\u001B[0m         \u001B[38;5;28;01mcase\u001B[39;00m \u001B[38;5;241m1\u001B[39m:\n\u001B[1;32m      5\u001B[0m             how \u001B[38;5;241m=\u001B[39m \u001B[38;5;28mint\u001B[39m(\u001B[38;5;28minput\u001B[39m(\u001B[38;5;124m\"\u001B[39m\u001B[38;5;124m1. Read All\u001B[39m\u001B[38;5;130;01m\\n\u001B[39;00m\u001B[38;5;124m2.Read Specific\u001B[39m\u001B[38;5;130;01m\\n\u001B[39;00m\u001B[38;5;124m\"\u001B[39m))\n\u001B[0;32m   (...)\u001B[0m\n\u001B[1;32m     20\u001B[0m             bookID \u001B[38;5;241m=\u001B[39m \u001B[38;5;28mint\u001B[39m(\u001B[38;5;28minput\u001B[39m(\u001B[38;5;124m\"\u001B[39m\u001B[38;5;124mEnter Book ID: \u001B[39m\u001B[38;5;124m\"\u001B[39m))\n\u001B[1;32m     21\u001B[0m             delete(bookID)\n",
      "File \u001B[0;32m~/miniconda3/lib/python3.12/site-packages/ipykernel/kernelbase.py:1282\u001B[0m, in \u001B[0;36mKernel.raw_input\u001B[0;34m(self, prompt)\u001B[0m\n\u001B[1;32m   1280\u001B[0m     msg \u001B[38;5;241m=\u001B[39m \u001B[38;5;124m\"\u001B[39m\u001B[38;5;124mraw_input was called, but this frontend does not support input requests.\u001B[39m\u001B[38;5;124m\"\u001B[39m\n\u001B[1;32m   1281\u001B[0m     \u001B[38;5;28;01mraise\u001B[39;00m StdinNotImplementedError(msg)\n\u001B[0;32m-> 1282\u001B[0m \u001B[38;5;28;01mreturn\u001B[39;00m \u001B[38;5;28mself\u001B[39m\u001B[38;5;241m.\u001B[39m_input_request(\n\u001B[1;32m   1283\u001B[0m     \u001B[38;5;28mstr\u001B[39m(prompt),\n\u001B[1;32m   1284\u001B[0m     \u001B[38;5;28mself\u001B[39m\u001B[38;5;241m.\u001B[39m_parent_ident[\u001B[38;5;124m\"\u001B[39m\u001B[38;5;124mshell\u001B[39m\u001B[38;5;124m\"\u001B[39m],\n\u001B[1;32m   1285\u001B[0m     \u001B[38;5;28mself\u001B[39m\u001B[38;5;241m.\u001B[39mget_parent(\u001B[38;5;124m\"\u001B[39m\u001B[38;5;124mshell\u001B[39m\u001B[38;5;124m\"\u001B[39m),\n\u001B[1;32m   1286\u001B[0m     password\u001B[38;5;241m=\u001B[39m\u001B[38;5;28;01mFalse\u001B[39;00m,\n\u001B[1;32m   1287\u001B[0m )\n",
      "File \u001B[0;32m~/miniconda3/lib/python3.12/site-packages/ipykernel/kernelbase.py:1325\u001B[0m, in \u001B[0;36mKernel._input_request\u001B[0;34m(self, prompt, ident, parent, password)\u001B[0m\n\u001B[1;32m   1322\u001B[0m \u001B[38;5;28;01mexcept\u001B[39;00m \u001B[38;5;167;01mKeyboardInterrupt\u001B[39;00m:\n\u001B[1;32m   1323\u001B[0m     \u001B[38;5;66;03m# re-raise KeyboardInterrupt, to truncate traceback\u001B[39;00m\n\u001B[1;32m   1324\u001B[0m     msg \u001B[38;5;241m=\u001B[39m \u001B[38;5;124m\"\u001B[39m\u001B[38;5;124mInterrupted by user\u001B[39m\u001B[38;5;124m\"\u001B[39m\n\u001B[0;32m-> 1325\u001B[0m     \u001B[38;5;28;01mraise\u001B[39;00m \u001B[38;5;167;01mKeyboardInterrupt\u001B[39;00m(msg) \u001B[38;5;28;01mfrom\u001B[39;00m \u001B[38;5;28;01mNone\u001B[39;00m\n\u001B[1;32m   1326\u001B[0m \u001B[38;5;28;01mexcept\u001B[39;00m \u001B[38;5;167;01mException\u001B[39;00m:\n\u001B[1;32m   1327\u001B[0m     \u001B[38;5;28mself\u001B[39m\u001B[38;5;241m.\u001B[39mlog\u001B[38;5;241m.\u001B[39mwarning(\u001B[38;5;124m\"\u001B[39m\u001B[38;5;124mInvalid Message:\u001B[39m\u001B[38;5;124m\"\u001B[39m, exc_info\u001B[38;5;241m=\u001B[39m\u001B[38;5;28;01mTrue\u001B[39;00m)\n",
      "\u001B[0;31mKeyboardInterrupt\u001B[0m: Interrupted by user"
     ]
    }
   ],
   "execution_count": 19,
   "source": [
    "while True:\n",
    "    choice = int(input(\"What would you like to perform?\\n1. Read\\n2. Insert Using QR\\n3. Create QR\\n4.Update\\n5.Delete\\n\"))\n",
    "    match choice:\n",
    "        case 1:\n",
    "            how = int(input(\"1. Read All\\n2.Read Specific\\n\"))\n",
    "            match how:\n",
    "                case 1:\n",
    "                    filter = int(input(\"1. All\\n2. Available\\n3.Unavailable\"))\n",
    "                    read(filter)\n",
    "                case 2:\n",
    "                    bookID = int(input(\"Enter Book ID: \"))\n",
    "                    specificRead(bookID)\n",
    "        case 2:\n",
    "            insertBook()\n",
    "        case 3:\n",
    "            createQR()\n",
    "        case 4:\n",
    "            update()\n",
    "        case 5:\n",
    "            bookID = int(input(\"Enter Book ID: \"))\n",
    "            delete(bookID)"
   ],
   "id": "c3c17a59f08b6d13"
  }
 ],
 "metadata": {
  "kernelspec": {
   "display_name": "Python 3",
   "language": "python",
   "name": "python3"
  },
  "language_info": {
   "codemirror_mode": {
    "name": "ipython",
    "version": 2
   },
   "file_extension": ".py",
   "mimetype": "text/x-python",
   "name": "python",
   "nbconvert_exporter": "python",
   "pygments_lexer": "ipython2",
   "version": "2.7.6"
  }
 },
 "nbformat": 4,
 "nbformat_minor": 5
}
