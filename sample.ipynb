{
 "cells": [
  {
   "metadata": {},
   "cell_type": "markdown",
   "source": "# Importing Modules",
   "id": "8a77807f92f26ee"
  },
  {
   "metadata": {
    "ExecuteTime": {
     "end_time": "2025-03-03T14:42:08.534647Z",
     "start_time": "2025-03-03T14:42:07.938362Z"
    }
   },
   "cell_type": "code",
   "source": [
    "import numpy as np\n",
    "import matplotlib.pyplot as plt\n",
    "import mysql.connector as mycon\n",
    "from prompt_toolkit.styles import Attrs\n",
    "from tabulate import tabulate\n",
    "from qrcodereader import scan_qr_from_webcam"
   ],
   "id": "202cae2f97b33508",
   "outputs": [],
   "execution_count": 2
  },
  {
   "metadata": {},
   "cell_type": "markdown",
   "source": "# Calling MySQL",
   "id": "aa1c611b21898bc6"
  },
  {
   "metadata": {
    "ExecuteTime": {
     "end_time": "2025-03-03T14:42:08.585076Z",
     "start_time": "2025-03-03T14:42:08.540340Z"
    }
   },
   "cell_type": "code",
   "source": [
    "cob = mycon.connect(\n",
    "    host='localhost', \n",
    "    user='root',\n",
    "    password='navijune4',\n",
    "    database = 'library',\n",
    "    auth_plugin='mysql_native_password'\n",
    ")"
   ],
   "id": "fbc121e30a2defb3",
   "outputs": [],
   "execution_count": 3
  },
  {
   "metadata": {},
   "cell_type": "markdown",
   "source": [
    "# Creating Read Function\n",
    "This function will display all the books available in the library"
   ],
   "id": "2c2b0ca88cb747d8"
  },
  {
   "metadata": {
    "ExecuteTime": {
     "end_time": "2025-03-03T14:42:08.598548Z",
     "start_time": "2025-03-03T14:42:08.594229Z"
    }
   },
   "cell_type": "code",
   "source": [
    "def read(filter):\n",
    "    tab = cob.cursor()\n",
    "    match filter:\n",
    "        case 1:\n",
    "            tab.execute(\"SELECT * FROM books\")\n",
    "        case 2:\n",
    "            tab.execute(\"SELECT * FROM books WHERE status = 'A'\")\n",
    "        case 3:\n",
    "            tab.execute(\"SELECT * FROM books WHERE status = 'B'\")\n",
    "    \n",
    "    bookLis = []\n",
    "    for i in tab:\n",
    "        bookLis.append(i)\n",
    "    print(tabulate(bookLis, headers=[\"Book ID\", \"Name of Book\", \"Shelf\", \"Status\"]))\n",
    "read(3)"
   ],
   "id": "e49a75c30a9e7cbc",
   "outputs": [
    {
     "name": "stdout",
     "output_type": "stream",
     "text": [
      "Book ID    Name of Book    Shelf    Status\n",
      "---------  --------------  -------  --------\n"
     ]
    }
   ],
   "execution_count": 4
  },
  {
   "metadata": {},
   "cell_type": "markdown",
   "source": [
    "# Creating Specific Read Function\n",
    "This function will display specific books available in the library\n",
    "\n",
    "\n",
    "**Values Taken From User:**\n",
    "1. Book ID"
   ],
   "id": "67d5ca8c820f24b0"
  },
  {
   "metadata": {
    "ExecuteTime": {
     "end_time": "2025-03-03T14:42:08.616439Z",
     "start_time": "2025-03-03T14:42:08.613684Z"
    }
   },
   "cell_type": "code",
   "source": [
    "def specificRead(bookID):\n",
    "    tab = cob.cursor()\n",
    "    tab.execute(f'SELECT * FROM books WHERE bookID = {bookID}')\n",
    "    for i in tab:\n",
    "        if i[3] == \"A\":\n",
    "            print(f\"Book Name: {i[1]}\\nShelf: {i[2]}\\nStatus: Available\")\n",
    "        elif i[3] == \"B\":\n",
    "            print(f\"Book Name: {i[1]}\\nShelf: {i[2]}\\nStatus: Unavailable\")\n",
    "specificRead(1001)"
   ],
   "id": "1fb1df5fc2f357e9",
   "outputs": [
    {
     "name": "stdout",
     "output_type": "stream",
     "text": [
      "Book Name: The Jungle Book\n",
      "Shelf: 1A\n",
      "Status: Available\n"
     ]
    }
   ],
   "execution_count": 5
  },
  {
   "metadata": {},
   "cell_type": "markdown",
   "source": [
    "# Creating a Create Function\n",
    "This function will insert books in the library using QR Code"
   ],
   "id": "383bdad78804fb08"
  },
  {
   "metadata": {
    "ExecuteTime": {
     "end_time": "2025-03-03T14:42:12.676157Z",
     "start_time": "2025-03-03T14:42:08.633135Z"
    }
   },
   "cell_type": "code",
   "source": [
    "def insertBook():\n",
    "    qrval = scan_qr_from_webcam()\n",
    "    try:\n",
    "        qrval = qrval.split(\",\")\n",
    "        bookID = qrval[0].strip()\n",
    "        bookName = qrval[1].strip()\n",
    "        shelf = qrval[2].strip()\n",
    "        status = qrval[3].strip()\n",
    "    \n",
    "    except:\n",
    "        print(\"Could Not Scan QR Code Properly, Try Insering Manually...\")\n",
    "        bookId = int(input(\"Enter Book ID: \"))\n",
    "        bookName = input(\"Enter Book Name: \")\n",
    "        shelf = input(\"Enter Shelf: \")\n",
    "        status = input(\"Enter Status: \")\n",
    "    \n",
    "    finally:\n",
    "        tab = cob.cursor()\n",
    "        tab.execute(f'INSERT INTO books VALUES ({bookID}, \"{bookName}\", \"{shelf}\", \"{status}\")')\n",
    "\n",
    "        cob.commit()\n",
    "insertBook()"
   ],
   "id": "9f686a0dbc7ffa3b",
   "outputs": [
    {
     "name": "stderr",
     "output_type": "stream",
     "text": [
      "2025-03-03 20:12:11.091 python[7128:45345973] +[IMKClient subclass]: chose IMKClient_Modern\n",
      "2025-03-03 20:12:11.091 python[7128:45345973] +[IMKInputSession subclass]: chose IMKInputSession_Modern\n"
     ]
    }
   ],
   "execution_count": 6
  }
 ],
 "metadata": {
  "kernelspec": {
   "display_name": "Python 3",
   "language": "python",
   "name": "python3"
  },
  "language_info": {
   "codemirror_mode": {
    "name": "ipython",
    "version": 2
   },
   "file_extension": ".py",
   "mimetype": "text/x-python",
   "name": "python",
   "nbconvert_exporter": "python",
   "pygments_lexer": "ipython2",
   "version": "2.7.6"
  }
 },
 "nbformat": 4,
 "nbformat_minor": 5
}
